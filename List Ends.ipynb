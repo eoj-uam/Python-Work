{
 "cells": [
  {
   "cell_type": "code",
   "execution_count": 39,
   "id": "c8e544fa-f6aa-482c-8935-2875c1daa251",
   "metadata": {},
   "outputs": [
    {
     "data": {
      "text/plain": [
       "[5, 25]"
      ]
     },
     "execution_count": 39,
     "metadata": {},
     "output_type": "execute_result"
    }
   ],
   "source": [
    "a = [5, 10, 15, 20, 25]\n",
    "def list_ends(a_list):\n",
    "    return [a_list[0], a_list[len(a_list)-1]]\n",
    "list_ends(a)\n"
   ]
  },
  {
   "cell_type": "code",
   "execution_count": 45,
   "id": "3d488f3a-4aa7-4672-8d18-f36dc1b6f30b",
   "metadata": {},
   "outputs": [
    {
     "data": {
      "text/plain": [
       "25"
      ]
     },
     "execution_count": 45,
     "metadata": {},
     "output_type": "execute_result"
    }
   ],
   "source": [
    "a = [5, 10, 15, 20, 25]\n",
    "def list_ends(a_list):\n",
    "    return a_list[len(a_list)-1]\n",
    "list_ends(a)"
   ]
  },
  {
   "cell_type": "code",
   "execution_count": 55,
   "id": "ce03ebd1-7550-4f49-ab05-867d1d9b3152",
   "metadata": {},
   "outputs": [
    {
     "name": "stdout",
     "output_type": "stream",
     "text": [
      "[5, 25]\n"
     ]
    }
   ],
   "source": [
    "a = [5, 10, 15, 20, 25]\n",
    "b = len(a)\n",
    "c = [a[0], a[b-1]]\n",
    "print(c)"
   ]
  },
  {
   "cell_type": "code",
   "execution_count": 57,
   "id": "f7c80c61-94ee-4e9b-aaa8-28d5d87cb0dc",
   "metadata": {},
   "outputs": [
    {
     "data": {
      "text/plain": [
       "[5, 25]"
      ]
     },
     "execution_count": 57,
     "metadata": {},
     "output_type": "execute_result"
    }
   ],
   "source": [
    "a = [5, 10, 15, 20, 25]\n",
    "def list_ends(a_list):\n",
    "    b = len(a)\n",
    "    return [a_list[0], a_list[b-1]]\n",
    "list_ends(a)"
   ]
  },
  {
   "cell_type": "code",
   "execution_count": null,
   "id": "df619867-1a30-437f-972a-c16ed949a2c9",
   "metadata": {},
   "outputs": [],
   "source": []
  }
 ],
 "metadata": {
  "kernelspec": {
   "display_name": "Python [conda env:base] *",
   "language": "python",
   "name": "conda-base-py"
  },
  "language_info": {
   "codemirror_mode": {
    "name": "ipython",
    "version": 3
   },
   "file_extension": ".py",
   "mimetype": "text/x-python",
   "name": "python",
   "nbconvert_exporter": "python",
   "pygments_lexer": "ipython3",
   "version": "3.11.7"
  }
 },
 "nbformat": 4,
 "nbformat_minor": 5
}
