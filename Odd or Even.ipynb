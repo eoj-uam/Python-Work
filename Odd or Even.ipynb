{
 "cells": [
  {
   "cell_type": "code",
   "execution_count": 13,
   "id": "8d4c730d-50d0-477a-9fc8-15b7a89f7958",
   "metadata": {},
   "outputs": [
    {
     "name": "stdin",
     "output_type": "stream",
     "text": [
      "What is your number?  57\n"
     ]
    },
    {
     "name": "stdout",
     "output_type": "stream",
     "text": [
      "your number is odd\n"
     ]
    }
   ],
   "source": [
    "num = input(\"What is your number? \")\n",
    "num = int(num)\n",
    "mod = num % 2\n",
    "if mod > 0:\n",
    "    print(\"Your number is odd\")\n",
    "else:\n",
    "    print(\"Your number is even\")"
   ]
  },
  {
   "cell_type": "code",
   "execution_count": 21,
   "id": "2e295e88-cd56-449a-b616-46a13a7b5d31",
   "metadata": {},
   "outputs": [
    {
     "name": "stdin",
     "output_type": "stream",
     "text": [
      "Enter a number:  615\n",
      "Enter a number to divide by:  4\n"
     ]
    },
    {
     "name": "stdout",
     "output_type": "stream",
     "text": [
      "615  is odd.\n",
      "615  does not divide evenly by 4\n"
     ]
    }
   ],
   "source": [
    "num = int(input(\"Enter a number: \"))\n",
    "check = int(input(\"Enter a number to divide by: \"))\n",
    "if num % 4 == 0:\n",
    "    print( num, \" is a multiple of 4.\")\n",
    "elif num % 2 == 0:\n",
    "    print(num, \" is even.\")\n",
    "else:\n",
    "    print(num, \" is odd.\")\n",
    "if num % check == 0:\n",
    "    print(num, \" is a multiple of\", check)\n",
    "else:\n",
    "    print( num, \" does not divide evenly by\", check)\n",
    "    "
   ]
  },
  {
   "cell_type": "code",
   "execution_count": null,
   "id": "ec898a99-b858-47cb-95fd-6d8b2b47201f",
   "metadata": {},
   "outputs": [],
   "source": []
  }
 ],
 "metadata": {
  "kernelspec": {
   "display_name": "Python [conda env:base] *",
   "language": "python",
   "name": "conda-base-py"
  },
  "language_info": {
   "codemirror_mode": {
    "name": "ipython",
    "version": 3
   },
   "file_extension": ".py",
   "mimetype": "text/x-python",
   "name": "python",
   "nbconvert_exporter": "python",
   "pygments_lexer": "ipython3",
   "version": "3.11.7"
  }
 },
 "nbformat": 4,
 "nbformat_minor": 5
}
